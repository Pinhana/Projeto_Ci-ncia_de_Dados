O notebook não aparece no github, para poder visualizar o notebook descarregue o ficheiro.
